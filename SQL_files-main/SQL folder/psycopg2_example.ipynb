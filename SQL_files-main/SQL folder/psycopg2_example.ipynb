{
 "cells": [
  {
   "cell_type": "markdown",
   "metadata": {
    "id": "BX6oJyla66PI"
   },
   "source": [
    "# DS Capstone DBMS Project\n",
    "## By A. Student"
   ]
  },
  {
   "cell_type": "markdown",
   "metadata": {
    "id": "mIpJTzzy66PM"
   },
   "source": [
    "# "
   ]
  },
  {
   "cell_type": "markdown",
   "metadata": {
    "id": "p2FNxLbN66PN"
   },
   "source": [
    "# Table of Contents\n",
    "### 1. List of Functional Requirements\n",
    "### 2. Data Generator\n",
    "### 3. Data Definition Language (DDL)\n",
    "### 4. Data Manipulation Language (DML)\n",
    "### 5. Application Code"
   ]
  },
  {
   "cell_type": "markdown",
   "metadata": {
    "id": "j2xcNXpw66PN"
   },
   "source": [
    "# List of Functional Requirements\n",
    "## This section is a list of system requirements used to structure the data and the DDL"
   ]
  },
  {
   "cell_type": "markdown",
   "metadata": {
    "id": "grjDdNh966PO"
   },
   "source": [
    "### One or many employees can work for one department\n",
    "### An employee can have one employee performance score\n",
    "### An employee can have one system password\n",
    "### An employee can have one, many, or no dependents\n",
    "### An employee can have one manager and a manager can have one or many employees\n",
    "### A manager can have one department\n",
    "### A manager can have one system password\n",
    "### A mangager can have one performance score\n",
    "### A manager can have one, many, or no dependents"
   ]
  },
  {
   "cell_type": "markdown",
   "metadata": {
    "id": "_Gr-aYFb66PO"
   },
   "source": [
    "# Data Generator\n",
    "### This section contains the code to create 500 rows of employee data and 50 rows of manager data that can be joined using a shared \"manager_id\" feature."
   ]
  },
  {
   "cell_type": "markdown",
   "metadata": {
    "id": "SRzvGZQK66PP"
   },
   "source": [
    "## Imports"
   ]
  },
  {
   "cell_type": "code",
   "execution_count": 1,
   "metadata": {
    "id": "wV0ME36x66PP"
   },
   "outputs": [
    {
     "ename": "ModuleNotFoundError",
     "evalue": "No module named 'faker'",
     "output_type": "error",
     "traceback": [
      "\u001b[0;31m---------------------------------------------------------------------------\u001b[0m",
      "\u001b[0;31mModuleNotFoundError\u001b[0m                       Traceback (most recent call last)",
      "\u001b[0;32m/var/folders/jx/4n05wnhd3sqdnldjg7p3yv340000gn/T/ipykernel_15456/684636677.py\u001b[0m in \u001b[0;36m<module>\u001b[0;34m\u001b[0m\n\u001b[1;32m      3\u001b[0m \u001b[0;32mimport\u001b[0m \u001b[0mnumpy\u001b[0m \u001b[0;32mas\u001b[0m \u001b[0mnp\u001b[0m\u001b[0;34m\u001b[0m\u001b[0;34m\u001b[0m\u001b[0m\n\u001b[1;32m      4\u001b[0m \u001b[0;32mimport\u001b[0m \u001b[0mpandas\u001b[0m \u001b[0;32mas\u001b[0m \u001b[0mpd\u001b[0m\u001b[0;34m\u001b[0m\u001b[0;34m\u001b[0m\u001b[0m\n\u001b[0;32m----> 5\u001b[0;31m \u001b[0;32mfrom\u001b[0m \u001b[0mfaker\u001b[0m \u001b[0;32mimport\u001b[0m \u001b[0mFaker\u001b[0m\u001b[0;34m\u001b[0m\u001b[0;34m\u001b[0m\u001b[0m\n\u001b[0m\u001b[1;32m      6\u001b[0m \u001b[0;32mfrom\u001b[0m \u001b[0mfaker\u001b[0m\u001b[0;34m.\u001b[0m\u001b[0mproviders\u001b[0m \u001b[0;32mimport\u001b[0m \u001b[0minternet\u001b[0m\u001b[0;34m\u001b[0m\u001b[0;34m\u001b[0m\u001b[0m\n\u001b[1;32m      7\u001b[0m \u001b[0;32mimport\u001b[0m \u001b[0mrandom\u001b[0m\u001b[0;34m\u001b[0m\u001b[0;34m\u001b[0m\u001b[0m\n",
      "\u001b[0;31mModuleNotFoundError\u001b[0m: No module named 'faker'"
     ]
    }
   ],
   "source": [
    "# Import relevant packages and instantiate the faker module\n",
    "\n",
    "import numpy as np\n",
    "import pandas as pd\n",
    "from faker import Faker\n",
    "from faker.providers import internet\n",
    "import random\n",
    "fake = Faker()"
   ]
  },
  {
   "cell_type": "markdown",
   "metadata": {
    "id": "BpUIVgq566PR"
   },
   "source": [
    "## Create Employee Dataframe"
   ]
  },
  {
   "cell_type": "code",
   "execution_count": null,
   "metadata": {
    "id": "OxmP1Cvw66PR"
   },
   "outputs": [],
   "source": [
    "# Make class to generate some random features for employee data.\n",
    "\n",
    "def create_employee_personal_df(num = 1):\n",
    "    employee_data = [{'employee_name':fake.unique.name(),\n",
    "             'employee_age':random.randint(21, 60),\n",
    "             'employee_address':fake.unique.address(),\n",
    "         'employee_phone_number':fake.unique.phone_number(),\n",
    "            'employee_performance_score':random.randint(1, 10),\n",
    "            'employee_system_password': random.randint(10000000, 99999999),\n",
    "            'employee_dependent': fake.unique.name()\n",
    "            }\n",
    "            for x in range(num)]\n",
    "    return pd.DataFrame(employee_data)"
   ]
  },
  {
   "cell_type": "code",
   "execution_count": null,
   "metadata": {
    "id": "TNXx3tT866PS"
   },
   "outputs": [],
   "source": [
    "# Instantiate employee dataframe with 500 rows.\n",
    "\n",
    "employee_df = create_employee_personal_df(500)"
   ]
  },
  {
   "cell_type": "code",
   "execution_count": null,
   "metadata": {
    "id": "9y5BIP1066PS"
   },
   "outputs": [],
   "source": [
    "# Add empty columns to employee_df to add more features.\n",
    "\n",
    "employee_df['employee_job_title'] = \"\"\n",
    "employee_df['employee_department'] = \"\"\n",
    "employee_df['employee_salary_usd'] = \"\""
   ]
  },
  {
   "cell_type": "code",
   "execution_count": null,
   "metadata": {
    "id": "a39xpDkr66PT"
   },
   "outputs": [],
   "source": [
    "# Many warning are brought up when adding values to the columns created, ignore wanrnings.\n",
    "\n",
    "import warnings\n",
    "warnings.filterwarnings('ignore')\n",
    "\n",
    "# Insert data to columns via index so that rows of related features will be alligned. For example, sales_person\n",
    "# in the job title column must only be found with sales in the department column.\n",
    "\n",
    "employee_df.employee_job_title[0:100] = 'sales_person'\n",
    "employee_df.employee_department[0:100] = 'sales'\n",
    "employee_df.employee_salary_usd[0:100] = '70,000'\n",
    "\n",
    "employee_df.employee_job_title[100:175] = 'business_analyst'\n",
    "employee_df.employee_department[100:175] = 'business'\n",
    "employee_df.employee_salary_usd[100:175] = '60,000'\n",
    "\n",
    "employee_df.employee_job_title[175:225] = 'project_manager'\n",
    "employee_df.employee_department[175:225] = 'business'\n",
    "employee_df.employee_salary_usd[175:225] = '80,000'\n",
    "\n",
    "employee_df.employee_job_title[225:300] = 'accountant'\n",
    "employee_df.employee_department[225:300] = 'finance'\n",
    "employee_df.employee_salary_usd[225:300] = '75,000'\n",
    "\n",
    "employee_df.employee_job_title[300:325] = 'compliance_officer'\n",
    "employee_df.employee_department[300:325] = 'human_resources'\n",
    "employee_df.employee_salary_usd[300:325] = '75,000'\n",
    "\n",
    "employee_df.employee_job_title[325:400] = 'coordinator'\n",
    "employee_df.employee_department[325:400] = 'human_resources'\n",
    "employee_df.employee_salary_usd[325:400] = '55,000'\n",
    "\n",
    "employee_df.employee_job_title[400:475] = 'engineer'\n",
    "employee_df.employee_department[400:475] = 'research and development'\n",
    "employee_df.employee_salary_usd[400:475] = '80,000'\n",
    "\n",
    "employee_df.employee_job_title[475:500] = 'data scientist'\n",
    "employee_df.employee_department[475:500] = 'research and development'\n",
    "employee_df.employee_salary_usd[475:500] = '100,000'\n"
   ]
  },
  {
   "cell_type": "code",
   "execution_count": null,
   "metadata": {
    "id": "BrIU1GPB66PT"
   },
   "outputs": [],
   "source": [
    "# Add new features to the employee data.\n",
    "\n",
    "employee_df['employee_performance_score_id'] =  (range(1100,1600))\n",
    "employee_df['employee_email'] = employee_df.employee_name.str.replace('\\s+', '.') + '@business.com'\n",
    "employee_df['employee_id'] = (range(1100,1600))\n",
    "employee_df['manager_id'] = manager_id = pd.DataFrame(np.repeat(range(1200, 1250), 10))"
   ]
  },
  {
   "cell_type": "code",
   "execution_count": null,
   "metadata": {
    "id": "7LCDe2SX66PU"
   },
   "outputs": [],
   "source": [
    "# Create employee dependent feature for employees with id bewtween 1100 and 1200.\n",
    "\n",
    "employee_dependent_id = []\n",
    "for i in range(1100, 1200):\n",
    "    employee_dependent_id.append(i)\n",
    "    \n",
    "employee_dependent_id = employee_dependent_id * 5\n",
    "\n",
    "employee_df['employee_dependent_id'] = employee_dependent_id"
   ]
  },
  {
   "cell_type": "code",
   "execution_count": null,
   "metadata": {
    "id": "uD0C0ORE66PU"
   },
   "outputs": [],
   "source": [
    "# Take the commas out of this df so that it can be read into postgreSQL.\n",
    "\n",
    "employee_df = employee_df.replace(',','', regex=True)"
   ]
  },
  {
   "cell_type": "markdown",
   "metadata": {
    "id": "WCM3lV-l66PU"
   },
   "source": [
    "## Create Manager Dataframe"
   ]
  },
  {
   "cell_type": "code",
   "execution_count": null,
   "metadata": {
    "id": "B8jI_lkl66PV"
   },
   "outputs": [],
   "source": [
    "# Make class to generate some random features for manager data.\n",
    "\n",
    "def create_manager_data(num = 1):\n",
    "    manager_data = [{'manager_name':fake.unique.name(), # find a way to make only 50 managers so there will be 50 managers for the 500 employees\n",
    "             'manager_age':random.randint(18, 60),\n",
    "             'manager_adress':fake.unique.address(),\n",
    "             'manager_phone_number':fake.unique.phone_number(),\n",
    "             'manager_performance_score':random.randint(1, 10),\n",
    "                'manager_system_password': random.randint(10000000, 99999999),\n",
    "                'manager_dependent': fake.unique.name()\n",
    "            }\n",
    "            for x in range(num)]\n",
    "    return pd.DataFrame(manager_data)\n",
    "\n"
   ]
  },
  {
   "cell_type": "code",
   "execution_count": null,
   "metadata": {
    "id": "1FUfN87X66PV"
   },
   "outputs": [],
   "source": [
    "# Create manager data for 50 rows.\n",
    "\n",
    "manager_df = create_manager_data(50)"
   ]
  },
  {
   "cell_type": "code",
   "execution_count": null,
   "metadata": {
    "id": "7b_5iJvO66PV"
   },
   "outputs": [],
   "source": [
    "# Add new features to the manager data.\n",
    "\n",
    "manager_df['manager_email'] = manager_df.manager_name.str.replace('\\s+', '.') + '@business.com'\n",
    "manager_df['manager_id'] = range(1200, 1250)\n",
    "manager_df['manager_performance_score_id'] =  range(1200, 1250)\n",
    "manager_df['manager_salary_usd'] = \"125,000\"\n",
    "manager_df['manager_department'] = \"\""
   ]
  },
  {
   "cell_type": "code",
   "execution_count": null,
   "metadata": {
    "id": "loTy5Nq466PV"
   },
   "outputs": [],
   "source": [
    "# Insert data to columns via index so that rows of related features will be alligned.\n",
    "\n",
    "manager_df.manager_department[0:10] = 'sales'\n",
    "manager_df.manager_department[10:20] = 'business'\n",
    "manager_df.manager_department[20:30] = 'finance'\n",
    "manager_df.manager_department[30:40] = 'human resources'\n",
    "manager_df.manager_department[40:50] = 'research and development'"
   ]
  },
  {
   "cell_type": "code",
   "execution_count": null,
   "metadata": {
    "id": "vOqEnnso66PW"
   },
   "outputs": [],
   "source": [
    "# Create manager dependent feature for employees with id bewtween 1200 and 1225.\n",
    "\n",
    "manager_dependent_id = []\n",
    "for i in range(1200, 1225):\n",
    "    manager_dependent_id.append(i)\n",
    "    \n",
    "manager_dependent_id = manager_dependent_id * 2\n",
    "\n",
    "manager_df['manager_dependent_id'] = manager_dependent_id"
   ]
  },
  {
   "cell_type": "code",
   "execution_count": null,
   "metadata": {
    "id": "8lhzZFW366PW"
   },
   "outputs": [],
   "source": [
    "# Take the commas out of this df so that it can be read into postgreSQL.\n",
    "\n",
    "manager_df = manager_df.replace(',','', regex=True)"
   ]
  },
  {
   "cell_type": "markdown",
   "metadata": {
    "id": "NNWH88yG66PW"
   },
   "source": [
    "## Write to CSV"
   ]
  },
  {
   "cell_type": "code",
   "execution_count": null,
   "metadata": {
    "id": "l1ii2pMa66PW"
   },
   "outputs": [],
   "source": [
    "# Write the dataframes to a csv to be uploaded to PostgreSQL.\n",
    "\n",
    "employee_df.to_csv('employee_df.csv')\n",
    "manager_df.to_csv('manager_df.csv')"
   ]
  },
  {
   "cell_type": "markdown",
   "metadata": {
    "id": "2qtW78VH66PW"
   },
   "source": [
    "# Data Definition Language (DDL)\n",
    "## This section contains the DDL for the database. Drop statements are included in the beginning if you wish to later drop the tables. Components of the DDL include:\n",
    "### 10 tables\n",
    "### Two view definitions and an explanation of how to use these views/who would use them\n",
    "### Two general SQL functions\n",
    "### One trigger function\n",
    "### One stored procedure"
   ]
  },
  {
   "cell_type": "code",
   "execution_count": null,
   "metadata": {
    "id": "6RL0Gp-T66PX"
   },
   "outputs": [],
   "source": [
    "/* Drop all components of database (do not run this portion for initial set-up of database) */\n",
    "\n",
    "DROP FUNCTION managed_employees;\n",
    "DROP FUNCTION employee_job_title;\n",
    "DROP TRIGGER checksalary ON employee_business;\n",
    "DROP FUNCTION check_salary();\n",
    "\n",
    "DROP VIEW managed_employees;\n",
    "DROP VIEW it_services_employee;\n",
    "DROP VIEW it_services_manager;\n",
    "\n",
    "DROP TABLE employee_business CASCADE;\n",
    "DROP TABLE employee_passwords;\n",
    "DROP TABLE employee_performance_score;\n",
    "DROP TABLE employee_personal;\n",
    "DROP TABLE manager_business CASCADE;\n",
    "DROP TABLE manager_passwords;\n",
    "DROP TABLE manager_performance_score;\n",
    "DROP TABLE manager_personal;\n",
    "DROP TABLE employee_dependents;\n",
    "DROP TABLE manager_dependents;"
   ]
  },
  {
   "cell_type": "code",
   "execution_count": null,
   "metadata": {
    "id": "MS81w_yO66PX"
   },
   "outputs": [],
   "source": [
    "                                                                    /* Import the emplolyee data from CSV */\n",
    "\n",
    "CREATE TABLE employee\n",
    "(\n",
    "\" \" int,\n",
    "employee_name char(50),\n",
    "employee_age int,\n",
    "employee_address varchar(100),\n",
    "employee_phone_number varchar(50),\n",
    "employee_performance_score int,\n",
    "employee_system_password varchar(50),\n",
    "employee_dependent varchar(50),\n",
    "job_title varchar(50),\n",
    "department varchar(50),\n",
    "salary_usd int,\n",
    "employee_performance_score_id varchar(50),\n",
    "employee_email varchar(50),\n",
    "employee_id varchar(50),\n",
    "manager_id varchar(50),\n",
    "employee_dependent_id varchar(50)\n",
    ");\n",
    "\n",
    "\n",
    "COPY employee FROM '//Users/<AStudent>/Public/employee_df.csv' with CSV HEADER;\n",
    "\n",
    "\n",
    "                                                            /* Import the manager data from CSV */\n",
    "\n",
    "CREATE TABLE manager\n",
    "(\n",
    "\" \" varchar(500),\n",
    "manager_name char(50),\n",
    "manager_age int,\n",
    "manager_address varchar(100),\n",
    "manager_phone_number varchar(50),\n",
    "manager_performance_score int,\n",
    "manager_system_password varchar(50),\n",
    "manager_dependent varchar(50),\n",
    "manager_email varchar(50),\n",
    "manager_id varchar(50),\n",
    "manager_performance_score_id int,\n",
    "salary_usd int,\n",
    "department varchar(50),\n",
    "manager_dependent_id varchar(50)\n",
    ");\n",
    "\n",
    "\n",
    "COPY manager FROM '//Users/<AStudent>/Public/manager_df.csv' with CSV HEADER;\n",
    "\n",
    "\n",
    "                                                            /* Create Table Statements */\n",
    "\n",
    "/* Create employee_personal table and insert columns from the import table */\n",
    "\n",
    "CREATE TABLE employee_personal\n",
    "(\n",
    "employee_name char(50) NOT NULL UNIQUE,\n",
    "employee_age int NOT NULL,\n",
    "employee_address varchar(100) NOT NULL,\n",
    "employee_phone_number varchar(50) NOT NULL UNIQUE,\n",
    "employee_id varchar(50) NOT NULL UNIQUE);\n",
    "\n",
    "\n",
    "INSERT INTO employee_personal\n",
    "SELECT\n",
    "employee_name,\n",
    "employee_age,\n",
    "employee_address,\n",
    "employee_phone_number,\n",
    "employee_id\n",
    "FROM employee;\n",
    "\n",
    "/* Create employee_business table and insert columns from the import table */\n",
    "\n",
    "\n",
    "CREATE TABLE employee_business\n",
    "(\n",
    "job_title varchar(50),\n",
    "department varchar(50),\n",
    "salary_usd int,\n",
    "employee_id varchar(50) NOT NULL UNIQUE,\n",
    "employee_email varchar(50) NOT NULL UNIQUE,\n",
    "manager_id varchar(50));\n",
    "\n",
    "INSERT INTO employee_business\n",
    "SELECT\n",
    "job_title,\n",
    "department,\n",
    "salary_usd,\n",
    "employee_id,\n",
    "employee_email,\n",
    "manager_id\n",
    "FROM employee;\n",
    "\n",
    "/* Create employee_performance_score table and insert columns from the import table */\n",
    "\n",
    "CREATE TABLE employee_performance_score\n",
    "(\n",
    "employee_performance_score int NOT NULL,\n",
    "employee_performance_score_id varchar(50) NOT NULL UNIQUE);\n",
    "\n",
    "INSERT INTO employee_performance_score\n",
    "SELECT\n",
    "employee_performance_score,\n",
    "employee_performance_score_id\n",
    "FROM employee;\n",
    "\n",
    "/* Create employee_passwords table and insert columns from the import table */\n",
    "\n",
    "CREATE TABLE employee_passwords\n",
    "(\n",
    "employee_system_password varchar(50) NOT NULL UNIQUE,\n",
    "employee_email varchar(50) NOT NULL UNIQUE);\n",
    "\n",
    "INSERT INTO employee_passwords\n",
    "SELECT\n",
    "employee_system_password,\n",
    "employee_email\n",
    "FROM employee;\n",
    "\n",
    "\n",
    "/* Create employee_dependents table from the import table */\n",
    "\n",
    "CREATE TABLE employee_dependents\n",
    "(\n",
    "employee_dependent varchar(50) NOT NULL,\n",
    "employee_dependent_id varchar(50) NOT NULL);\n",
    "\n",
    "INSERT INTO employee_dependents\n",
    "SELECT\n",
    "employee_dependent,\n",
    "employee_dependent_id\n",
    "FROM employee;\n",
    "\n",
    "\n",
    "/* Create manager_personal table and insert columns from the import table */\n",
    "\n",
    "CREATE TABLE manager_personal\n",
    "(\n",
    "manager_name char(50) NOT NULL UNIQUE,\n",
    "manager_age int NOT NULL,\n",
    "manager_address varchar(100) NOT NULL,\n",
    "manager_phone_number varchar(50) NOT NULL UNIQUE,\n",
    "manager_id varchar(50) NOT NULL UNIQUE);\n",
    "\n",
    "\n",
    "INSERT INTO manager_personal\n",
    "SELECT\n",
    "manager_name,\n",
    "manager_age,\n",
    "manager_address,\n",
    "manager_phone_number,\n",
    "manager_id\n",
    "FROM manager;\n",
    "\n",
    "/* Create manager_business table and insert columns from the import table */\n",
    "\n",
    "\n",
    "CREATE TABLE manager_business\n",
    "(\n",
    "department varchar(50),\n",
    "manager_id varchar(50) NOT NULL UNIQUE,\n",
    "salary_usd int,\n",
    "manager_email varchar(50) NOT NULL UNIQUE);\n",
    "\n",
    "\n",
    "INSERT INTO manager_business\n",
    "SELECT\n",
    "department,\n",
    "manager_id,\n",
    "salary_usd,\n",
    "manager_email\n",
    "FROM manager;\n",
    "\n",
    "/* Create manager_performance_score table and insert columns from the import table */\n",
    "\n",
    "\n",
    "CREATE TABLE manager_performance_score\n",
    "(\n",
    "manager_performance_score int  NOT NULL,\n",
    "manager_performance_score_id varchar(50) NOT NULL UNIQUE);\n",
    "\n",
    "\n",
    "INSERT INTO manager_performance_score\n",
    "SELECT\n",
    "manager_performance_score,\n",
    "manager_performance_score_id\n",
    "FROM manager;\n",
    "\n",
    "/* Create manager_passwords table and insert columns from the import table */\n",
    "\n",
    "CREATE TABLE manager_passwords\n",
    "(\n",
    "manager_system_password varchar(50) NOT NULL UNIQUE,\n",
    "manager_email varchar(50) NOT NULL UNIQUE);\n",
    "\n",
    "\n",
    "INSERT INTO manager_passwords\n",
    "SELECT\n",
    "manager_system_password,\n",
    "manager_email\n",
    "FROM manager;\n",
    "\n",
    "\n",
    "/* Create manager_dependents table from the import table */\n",
    "\n",
    "CREATE TABLE manager_dependents\n",
    "(\n",
    "manager_dependent varchar(50) NOT NULL,\n",
    "manager_dependent_id varchar(50) NOT NULL);\n",
    "\n",
    "INSERT INTO manager_dependents\n",
    "SELECT\n",
    "manager_dependent,\n",
    "manager_dependent_id\n",
    "FROM manager;\n",
    "\n",
    "\n",
    "\n",
    "/* Drop the original tables used for initial import */\n",
    "\n",
    "DROP TABLE employee;\n",
    "DROP TABLE manager;\n",
    "\n",
    "\n",
    "                                                                        /* Table Constraints */\n",
    "\n",
    "\n",
    "\n",
    "ALTER TABLE employee_personal \n",
    "ADD CONSTRAINT PK_employee_id_personal PRIMARY KEY (employee_id);\n",
    "\n",
    "ALTER TABLE manager_personal \n",
    "ADD CONSTRAINT PK_manager_id_personal PRIMARY KEY (manager_id);\n",
    "\n",
    "ALTER TABLE employee_business \n",
    "ADD CONSTRAINT PK_employee_id_business PRIMARY KEY (employee_id);\n",
    "\n",
    "ALTER TABLE manager_business\n",
    "ADD CONSTRAINT PK_manager_id_business PRIMARY KEY (manager_id);\n",
    "\n",
    "ALTER TABLE employee_dependents \n",
    "ADD CONSTRAINT FK_employee_dependent_id FOREIGN KEY (employee_dependent_id) REFERENCES employee_business (employee_id);\n",
    "\n",
    "ALTER TABLE manager_dependents \n",
    "ADD CONSTRAINT FK_manager_dependent_id FOREIGN KEY (manager_dependent_id) REFERENCES manager_business (manager_id);\n",
    "\n",
    "ALTER TABLE manager_performance_score\n",
    "ADD CONSTRAINT FK_manager_performance_score_id FOREIGN KEY (manager_performance_score_id) REFERENCES manager_business (manager_id);\n",
    "\n",
    "ALTER TABLE employee_performance_score\n",
    "ADD CONSTRAINT FK_employee_performance_score_id FOREIGN KEY (employee_performance_score_id) REFERENCES employee_business (employee_id);\n",
    "\n",
    "ALTER TABLE employee_passwords\n",
    "ADD CONSTRAINT FK_employee_email FOREIGN KEY (employee_email) REFERENCES employee_business (employee_email);\n",
    "\n",
    "ALTER TABLE manager_passwords\n",
    "ADD CONSTRAINT FK_manager_email FOREIGN KEY (manager_email) REFERENCES manager_business (manager_email);\n",
    "\n",
    "\n",
    "                                                                       /* Function #1 */\n",
    "\n",
    "/* Function that returns all employee names being managed by a given manager. Takes manager_id as input. */\n",
    "\n",
    "\n",
    "CREATE OR REPLACE FUNCTION managed_employees (manager_name CHAR(50))\n",
    "RETURNS TABLE (employee_namee CHAR(50))\n",
    "LANGUAGE plpgsql\n",
    "AS\n",
    "$$\n",
    "    BEGIN\n",
    "\tRETURN QUERY\n",
    "    SELECT employee_name\n",
    "    FROM employee_personal INNER JOIN employee_business ON employee_personal.employee_id = employee_business.employee_id\n",
    "    WHERE employee_personal.employee_id IN (SELECT employee_id\n",
    "        FROM manager_personal INNER JOIN employee_business ON\n",
    "\t\tmanager_personal.manager_id = employee_business.manager_id\n",
    "        WHERE manager_personal.manager_id = managed_employees.manager_name);\n",
    "    END;\n",
    "$$;\n",
    "\n",
    "\n",
    "\n",
    "                                                                       /* Function #2 */\n",
    "\n",
    "/* Function that returns all employees with a given job title. Takes job title as input. */\n",
    "\n",
    "\n",
    "CREATE OR REPLACE FUNCTION employee_job_title (job_title VARCHAR(50))\n",
    "RETURNS TABLE (employee_namee CHAR(50),\n",
    "                job_titlee VARCHAR(50))\n",
    "LANGUAGE plpgsql\n",
    "AS\n",
    "$$\n",
    "    BEGIN\n",
    "\tRETURN QUERY\n",
    "       SELECT employee_name, employee_business.job_title\n",
    "        FROM employee_personal INNER JOIN employee_business ON\n",
    "\t\temployee_personal.employee_id = employee_business.employee_id WHERE\n",
    "        employee_business.job_title = employee_job_title.job_title;\n",
    "    END;\n",
    "$$;\n",
    "\n",
    "\n",
    "\n",
    "                                                                        /* Trigger */\n",
    "\n",
    "/* Trigger - Trigger that raises an exception when a number less than or equal to 0 is entered for employee_business salary.\n",
    " This will prevent invalid salary values from being added to the DBMS. */    \n",
    "\n",
    "\n",
    "CREATE FUNCTION check_salary() RETURNS trigger\n",
    "LANGUAGE plpgsql\n",
    "AS $$\n",
    "BEGIN\n",
    "    IF NEW.salary_usd <= 0 THEN\n",
    "    RAISE EXCEPTION 'salary is not a valid positive number';\n",
    "    END IF;\n",
    "    RETURN NEW;\n",
    "END;\n",
    "$$;\n",
    "\n",
    "CREATE TRIGGER checksalary\n",
    "    BEFORE INSERT on employee_business\n",
    "    FOR EACH ROW\n",
    "    WHEN (NEW.salary_usd <= 0)\n",
    "    EXECUTE PROCEDURE check_salary();\n",
    "    \n",
    "\n",
    "                                                                    /* Stored Procedure */\n",
    "                                                                    \n",
    "/* Stored Procedure - that adjusts all salaries in the DBMS for inflation (3% increase to all salaries) */\n",
    "\n",
    "\n",
    "\n",
    "CREATE or REPLACE PROCEDURE adjust_inflation()\n",
    "LANGUAGE PLPGSQL    \n",
    "as $$\n",
    "BEGIN\n",
    "    UPDATE employee_business\n",
    "    SET salary_usd = salary_usd * 1.03;\n",
    "    UPDATE manager_business\n",
    "    SET salary_usd = salary_usd * 1.03;\n",
    "END;\n",
    "$$;\n",
    "\n",
    "                                                                        /* VIEW #1 */\n",
    "\n",
    "/* This view is for managers to see a list of all employees that they could be managing, but does not show data that would be private to the employee\n",
    "or irrelevant to the manager. */\n",
    "\n",
    " \n",
    "CREATE VIEW managed_employees AS\n",
    "  SELECT\n",
    "  employee_name,\n",
    "  employee_personal.employee_id,\n",
    "  employee_email,\n",
    "  department,\n",
    "  job_title,\n",
    "  manager_id\n",
    "  FROM employee_personal, employee_business;\n",
    "  \n",
    "  \n",
    "                                                                     /* VIEW #2 AND #3 */\n",
    "\n",
    "/* The following are two views for IT services. The first view contains passwords, email addresses, IDs, and names for all of the employees. The second view contains \n",
    "passwords, email addresses, IDs, and names, for all of the managers. This would restrict IT to only access information relevant to their responsibilities and\n",
    "restrict access to personal or unrelated information */\n",
    "\n",
    "CREATE VIEW it_services_employee AS\n",
    "(SELECT employee_system_password, employee_business.employee_email,\n",
    "        employee_business.employee_id, employee_personal.employee_name, employee_business.manager_id\n",
    "        FROM employee_passwords\n",
    "        INNER JOIN employee_business\n",
    "        ON employee_business.employee_email = employee_passwords.employee_email\n",
    "        INNER JOIN employee_personal\n",
    "        ON employee_business.employee_id = employee_personal.employee_id);\n",
    "        \n",
    "CREATE VIEW it_services_manager AS\n",
    "  (SELECT manager_system_password, manager_business.manager_email,\n",
    "        manager_business.manager_id, manager_personal.manager_name\n",
    "        FROM manager_passwords\n",
    "        INNER JOIN manager_business\n",
    "        ON manager_business.manager_email = manager_passwords.manager_email\n",
    "        INNER JOIN manager_personal\n",
    "        ON manager_business.manager_id = manager_personal.manager_id);"
   ]
  },
  {
   "cell_type": "markdown",
   "metadata": {
    "id": "FypW84zd66Pa"
   },
   "source": [
    "# Data Manipulation Language (DML)\n",
    "## This section contains the DML. For each table (ten total) there will be at least:\n",
    "### Five example insert statements\n",
    "### One example of a delete statement\n",
    "### One example of an update statement\n",
    "### One example of a SQL query that use the previous DML statements\n",
    "## This also has one example of a more complex query using subqueries and joins"
   ]
  },
  {
   "cell_type": "code",
   "execution_count": 3,
   "metadata": {
    "id": "yFRtuQgM66Pc"
   },
   "outputs": [
    {
     "ename": "SyntaxError",
     "evalue": "invalid syntax (2815331461.py, line 3)",
     "output_type": "error",
     "traceback": [
      "\u001b[0;36m  File \u001b[0;32m\"/var/folders/jx/4n05wnhd3sqdnldjg7p3yv340000gn/T/ipykernel_21931/2815331461.py\"\u001b[0;36m, line \u001b[0;32m3\u001b[0m\n\u001b[0;31m    /* INSERT rows of data to the employee_personal table, use a delete statement, and use an update */\u001b[0m\n\u001b[0m    ^\u001b[0m\n\u001b[0;31mSyntaxError\u001b[0m\u001b[0;31m:\u001b[0m invalid syntax\n"
     ]
    }
   ],
   "source": [
    "                                                                /* Table #1 - employee_personal */\n",
    "\n",
    "-/* INSERT rows of data to the employee_personal table, use a delete statement, and use an update */\n",
    "\n",
    "INSERT INTO employee_personal (employee_name, employee_age, employee_address, employee_phone_number, employee_id)\n",
    "VALUES ('Eric Ly', 24, '123 Wayne Rd. Wayne PA 19087', '123-456-7890', '1600');\n",
    "\n",
    "INSERT INTO employee_personal (employee_name, employee_age, employee_address, employee_phone_number, employee_id)\n",
    "VALUES ('Gerald Jones', 31, '1002 Devon Rd. Devon PA 19333', '124-456-7890', '1601');\n",
    "\n",
    "INSERT INTO employee_personal (employee_name, employee_age, employee_address, employee_phone_number, employee_id)\n",
    "VALUES ('Tasha Smith', 43, '1112 Norristown Rd. Norristown PA 19401', '125-456-7890', '1602');\n",
    "\n",
    "INSERT INTO employee_personal (employee_name, employee_age, employee_address, employee_phone_number, employee_id)\n",
    "VALUES ('Bill Smith', 26, '123 Harleysville Rd. Harleysville PA 19438', '126-456-7890', '1603');\n",
    "\n",
    "INSERT INTO employee_personal (employee_name, employee_age, employee_address, employee_phone_number, employee_id)\n",
    "VALUES ('Josephine Joe', 31, '1002 Ambler Rd. Ambler PA 19002', '127-456-7890', '1604');\n",
    "\n",
    "DELETE FROM employee_personal\n",
    "WHERE employee_name = 'Eric Ly';\n",
    "\n",
    "SELECT employee_id\n",
    "FROM employee_personal\n",
    "WHERE employee_name = 'Gerald Jones';\n",
    "\n",
    "UPDATE employee_personal SET employee_name = 'Gerard Jonas' WHERE employee_name = 'Gerald Jones';\n",
    "\n",
    "\n",
    "                                                      /* Table #2 - manager_personal */\n",
    "\n",
    "/* INSERT rows or partial rows of data to the manager_personal table, use a delete statement, and use an update */\n",
    "\n",
    "INSERT INTO manager_personal (manager_name, manager_age, manager_address, manager_phone_number, manager_id)\n",
    "VALUES ('Olivia Ly', 22, '333 Forrest Rd. Phoenixville PA 18360', '321-454-7890', '1250');\n",
    "\n",
    "INSERT INTO manager_personal (manager_name, manager_age, manager_address, manager_phone_number, manager_id)\n",
    "VALUES ('Kiet Ly', 52, '333 Forrest Rd. Phoenixville PA 18360', '321-674-7890', '1251');\n",
    "\n",
    "INSERT INTO manager_personal (manager_name, manager_age, manager_address, manager_phone_number, manager_id)\n",
    "VALUES ('Tammy Ly', 51, '333 Forrest Rd. Phoenixville PA 18360', '321-712-7990', '1252');\n",
    "\n",
    "INSERT INTO manager_personal (manager_name, manager_age, manager_address, manager_phone_number, manager_id)\n",
    "VALUES ('Dominic Smith', 30, '123 ColdBrew Rd. Coffee PA 19781', '541-982-7800', '1253');\n",
    "\n",
    "INSERT INTO manager_personal (manager_name, manager_age, manager_address, manager_phone_number, manager_id)\n",
    "VALUES ('John Smith', 35, '891 Coffee Rd. Tea PA 19651', '321-826-0956', '1254');\n",
    "\n",
    "DELETE FROM manager_personal\n",
    "WHERE manager_name = 'John Smith';\n",
    "\n",
    "SELECT manager_id\n",
    "FROM manager_personal\n",
    "WHERE manager_name = 'Olivia Ly';\n",
    "\n",
    "UPDATE manager_personal SET manager_name = 'Gerard Jonas' WHERE manager_name = 'Gerald Jones';\n",
    "\n",
    "\n",
    "                                                    /* Table #3 - emplopyee_business */\n",
    "\n",
    "/* INSERT rows or partial rows of data to the employee_business table, use a delete statement, and use an update */\n",
    "\n",
    "INSERT INTO employee_business (department, job_title, salary_usd, employee_id, employee_email, manager_id)\n",
    "VALUES ('finance', 'accountant', 70000, '1601', 'personone@business.com', '1255');\n",
    "\n",
    "INSERT INTO employee_business (department, job_title, salary_usd, employee_id, employee_email, manager_id)\n",
    "VALUES ('business', 'project manager', 80000, '1602', 'persontwo@business.com', '1256');\n",
    "\n",
    "INSERT INTO employee_business (department, salary_usd, employee_id, employee_email, manager_id)\n",
    "VALUES ('business', 80000, '1603', 'personthree@business.com', '1257');\n",
    "\n",
    "INSERT INTO employee_business (department, salary_usd, employee_id, employee_email, manager_id)\n",
    "VALUES ('human_resources', 80000, '1604', 'personfour@business.com', '1258');\n",
    "\n",
    "INSERT INTO employee_business (department, job_title, salary_usd, employee_id, employee_email, manager_id)\n",
    "VALUES ('human_resources', 'compliance_office', 75000, '1605', 'personfive@business.com', '1259');\n",
    "\n",
    "INSERT INTO employee_business (department, job_title, salary_usd, employee_id, employee_email, manager_id)\n",
    "VALUES ('human_resources', 'compliance_office', 75000, '1606', 'personsix@business.com', '1259');\n",
    "\n",
    "DELETE FROM employee_business\n",
    "WHERE employee_id  = '1602';\n",
    "\n",
    "SELECT job_title\n",
    "FROM employee_business\n",
    "WHERE employee_id = '1255';\n",
    "\n",
    "UPDATE employee_business SET job_title = 'New Job' WHERE job_title = 'Data Scientist';\n",
    "\n",
    "\n",
    "                                                     /* Table #4 - manager_business */\n",
    "\n",
    "/* INSERT rows or partial rows of data to the manager_business table, use a delete statement, and use an update */\n",
    "\n",
    "INSERT INTO manager_business (department, manager_id, salary_usd, manager_email)\n",
    "VALUES ('finance', '1260', 125000, 'humanone@business.com');\n",
    "\n",
    "INSERT INTO manager_business (department, manager_id, salary_usd, manager_email)\n",
    "VALUES ('business', '1261', 125000, 'humantwo@business.com');\n",
    "\n",
    "INSERT INTO manager_business (department, manager_id, salary_usd, manager_email)\n",
    "VALUES ('finance', '1262', 125000, 'humanthree@business.com');\n",
    "\n",
    "INSERT INTO manager_business (department, manager_id, salary_usd, manager_email)\n",
    "VALUES ('research and development', '1263', 125000, 'humanfour@business.com');\n",
    "\n",
    "INSERT INTO manager_business (department, manager_id, salary_usd, manager_email)\n",
    "VALUES ('sales', '1264', 125000, 'humanfive@business.com');\n",
    "\n",
    "INSERT INTO manager_business (department, manager_id, salary_usd, manager_email)\n",
    "VALUES ('sales', '1265', 125000, 'humansix@business.com');\n",
    "\n",
    "INSERT INTO manager_business (department, manager_id, salary_usd, manager_email)\n",
    "VALUES ('finance', '1266', 125000, 'humanseven@business.com');\n",
    "\n",
    "DELETE FROM manager_business\n",
    "WHERE manager_id  = '1262';\n",
    "\n",
    "SELECT department\n",
    "FROM manager_business\n",
    "WHERE manager_id = '1264';\n",
    "\n",
    "UPDATE manager_business SET department = 'finance' WHERE department = 'finance';\n",
    "\n",
    "\n",
    "                                                  /* Table #5 - employee_performance_score */\n",
    "\n",
    "/* INSERT rows or partial rows of data to the employee_performance_score table, use a delete statement, and use an update */\n",
    "\n",
    "INSERT INTO employee_performance_score (employee_performance_score, employee_performance_score_id)\n",
    "VALUES (7, '1601');\n",
    "\n",
    "INSERT INTO employee_performance_score (employee_performance_score, employee_performance_score_id)\n",
    "VALUES (3, '1606');\n",
    "\n",
    "INSERT INTO employee_performance_score (employee_performance_score, employee_performance_score_id)\n",
    "VALUES (4, '1603');\n",
    "\n",
    "INSERT INTO employee_performance_score (employee_performance_score, employee_performance_score_id)\n",
    "VALUES (9, '1604');\n",
    "\n",
    "INSERT INTO employee_performance_score (employee_performance_score, employee_performance_score_id)\n",
    "VALUES (2, '1605');\n",
    "\n",
    "DELETE FROM employee_performance_score\n",
    "WHERE employee_performance_score  = '1606';\n",
    "\n",
    "SELECT employee_performance_score\n",
    "FROM employee_performance_score\n",
    "WHERE employee_performance_score_id = '1605';\n",
    "\n",
    "UPDATE employee_performance_score SET employee_performance_score = 9 WHERE employee_performance_score_id = '1605';\n",
    "\n",
    "\n",
    "                                                 /* Table #6 - manager_performance_score */\n",
    "\n",
    "/* INSERT rows or partial rows of data to the manager_performance_score table, use a delete statement, and use an update */\n",
    "\n",
    "INSERT INTO manager_performance_score (manager_performance_score, manager_performance_score_id)\n",
    "VALUES (5, '1260');\n",
    "\n",
    "INSERT INTO manager_performance_score (manager_performance_score, manager_performance_score_id)\n",
    "VALUES (7, '1261');\n",
    "\n",
    "INSERT INTO manager_performance_score (manager_performance_score, manager_performance_score_id)\n",
    "VALUES (3, '1263');\n",
    "\n",
    "INSERT INTO manager_performance_score (manager_performance_score, manager_performance_score_id)\n",
    "VALUES (2, '1264');\n",
    "\n",
    "INSERT INTO manager_performance_score (manager_performance_score, manager_performance_score_id)\n",
    "VALUES (9, '1265');\n",
    "\n",
    "DELETE FROM manager_performance_score\n",
    "WHERE manager_performance_score  = '1263';\n",
    "\n",
    "SELECT manager_performance_score\n",
    "FROM manager_performance_score\n",
    "WHERE manager_performance_score_id = '1264';\n",
    "\n",
    "UPDATE manager_performance_score SET manager_performance_score = 9 WHERE manager_performance_score_id = '6054';\n",
    "\n",
    "\n",
    "                                                        /* Table #7 - employee_passwords */\n",
    "\n",
    "/* INSERT rows or partial rows of data to the employee_passwords table, use a delete statement, and use an update */\n",
    "\n",
    "INSERT INTO employee_passwords (employee_system_password, employee_email)\n",
    "VALUES (10000001, 'personone@business.com');\n",
    "\n",
    "INSERT INTO employee_passwords (employee_system_password, employee_email)\n",
    "VALUES (10007657, 'personthree@business.com');\n",
    "\n",
    "INSERT INTO employee_passwords (employee_system_password, employee_email)\n",
    "VALUES (10208627, 'personfour@business.com');\n",
    "\n",
    "INSERT INTO employee_passwords (employee_system_password, employee_email)\n",
    "VALUES (10044457, 'personfive@business.com');\n",
    "\n",
    "INSERT INTO employee_passwords (employee_system_password, employee_email)\n",
    "VALUES (12007687, 'personsix@business.com');\n",
    "\n",
    "DELETE FROM employee_passwords\n",
    "WHERE employee_email  = 'personsix@business.com';\n",
    "\n",
    "SELECT employee_system_password\n",
    "FROM employee_passwords\n",
    "WHERE employee_email = 'personfive@business.com';\n",
    "\n",
    "UPDATE employee_passwords SET employee_system_password = 12007687 WHERE employee_email = 'johnsmith@eastern.edu';\n",
    "\n",
    "\n",
    "                                                        /* Table #8 - manager_passwords */\n",
    "\n",
    "/* INSERT rows or partial rows of data to the manager_password table, use a delete statement, and use an update */\n",
    "\n",
    "INSERT INTO manager_passwords (manager_system_password, manager_email)\n",
    "VALUES (100450001, 'humanone@business.com');\n",
    "\n",
    "INSERT INTO manager_passwords (manager_system_password, manager_email)\n",
    "VALUES (10008989, 'humantwo@business.com');\n",
    "\n",
    "INSERT INTO manager_passwords (manager_system_password, manager_email)\n",
    "VALUES (10232127, 'humanfour@business.com');\n",
    "\n",
    "INSERT INTO manager_passwords (manager_system_password, manager_email)\n",
    "VALUES (10098457, 'humanfive@business.com');\n",
    "\n",
    "INSERT INTO manager_passwords (manager_system_password, manager_email)\n",
    "VALUES (13207687, 'humansix@business.com');\n",
    "\n",
    "DELETE FROM manager_passwords\n",
    "WHERE manager_email  = 'humanfive@business.com';\n",
    "\n",
    "SELECT manager_system_password\n",
    "FROM manager_passwords\n",
    "WHERE manager_email = 'humanfour@business.com';\n",
    "\n",
    "UPDATE manager_passwords SET manager_system_password = '10232127' WHERE manager_email = 'humanfour@business.com';\n",
    "\n",
    "\n",
    "                                                       /* Table #9 - employee_dependents */\n",
    "\n",
    "/* INSERT rows or partial rows of data to the employee_dependents table, use a delete statement, and use an update statement */\n",
    "\n",
    "\n",
    "INSERT INTO employee_dependents (employee_dependent, employee_dependent_id)\n",
    "VALUES ('Aron Schiller', 1601);\n",
    "\n",
    "INSERT INTO employee_dependents (employee_dependent, employee_dependent_id)\n",
    "VALUES ('Olivia Ly', 1603);\n",
    "\n",
    "INSERT INTO employee_dependents (employee_dependent, employee_dependent_id)\n",
    "VALUES ('Eric Ly', 1604);\n",
    "\n",
    "INSERT INTO employee_dependents (employee_dependent, employee_dependent_id)\n",
    "VALUES ('James Jack', 1605);\n",
    "\n",
    "INSERT INTO employee_dependents (employee_dependent, employee_dependent_id)\n",
    "VALUES ('Robert George', 1606);\n",
    "\n",
    "DELETE FROM employee_dependents\n",
    "WHERE employee_dependent  = 'Robert George';\n",
    "\n",
    "SELECT employee_dependent\n",
    "FROM employee_dependents\n",
    "WHERE employee_dependent = '1604';\n",
    "\n",
    "UPDATE employee_dependents SET employee_dependent_id = '1601' WHERE employee_dependent = 'Jack James';\n",
    "\n",
    "\n",
    "                                                  /* Table 10 - manager_dependents */\n",
    "\n",
    "/* INSERT rows or partial rows of data to the manager_dependents table, use a delete statement, and use an update */\n",
    "\n",
    "\n",
    "INSERT INTO manager_dependents (manager_dependent, manager_dependent_id)\n",
    "VALUES ('Olivia Ly', 1260);\n",
    "\n",
    "INSERT INTO manager_dependents (manager_dependent, manager_dependent_id)\n",
    "VALUES ('Aron Schiller', 1261);\n",
    "\n",
    "INSERT INTO manager_dependents (manager_dependent, manager_dependent_id)\n",
    "VALUES ('James Jack',1263);\n",
    "\n",
    "INSERT INTO manager_dependents (manager_dependent, manager_dependent_id)\n",
    "VALUES ('Robert George', 1264);\n",
    "\n",
    "INSERT INTO manager_dependents (manager_dependent, manager_dependent_id)\n",
    "VALUES ('Eric Ly', 1265);\n",
    "\n",
    "DELETE FROM manager_dependents\n",
    "WHERE manager_dependent  = 'Eric Ly';\n",
    "\n",
    "SELECT manager_dependent\n",
    "FROM manager_dependents\n",
    "WHERE manager_dependent_id = '1264';\n",
    "\n",
    "UPDATE manager_dependents SET manager_dependent_id = '1264' WHERE manager_dependent = 'James Jack';\n",
    "\n",
    "\n",
    "\n",
    "                                                /* Complex Query Example */\n",
    "\n",
    "/* SELECT statement that finds all passwords, emails, id, and names for all employees and managers. This could be used by IT services\n",
    "    to search through and analyze all passwords to meet new criteria. Then, IT could reach out to the appropriate managers or employes\n",
    "    to change their passwords. */\n",
    "\n",
    "    SELECT * FROM\n",
    "\n",
    "        (SELECT employee_system_password, employee_business.employee_email,\n",
    "        employee_business.employee_id, employee_personal.employee_name, employee_business.manager_id\n",
    "        FROM employee_passwords\n",
    "        INNER JOIN employee_business\n",
    "        ON employee_business.employee_email = employee_passwords.employee_email\n",
    "        INNER JOIN employee_personal\n",
    "        ON employee_business.employee_id = employee_personal.employee_id) as e_query\n",
    "\n",
    "    INNER JOIN\n",
    "\n",
    "           (SELECT manager_system_password, manager_business.manager_email,\n",
    "        manager_business.manager_id, manager_personal.manager_name\n",
    "        FROM manager_passwords\n",
    "        INNER JOIN manager_business\n",
    "        ON manager_business.manager_email = manager_passwords.manager_email\n",
    "        INNER JOIN manager_personal\n",
    "        ON manager_business.manager_id = manager_personal.manager_id) as m_query\n",
    "\n",
    "    ON e_query.manager_id = m_query.manager_id;"
   ]
  },
  {
   "cell_type": "markdown",
   "metadata": {
    "id": "iZX6APuM66Pc"
   },
   "source": [
    "# Application Code\n",
    "## This section interacts with a postgreSQL database in 3 ways:\n",
    "### 1. Performing a SQL query and printing the result\n",
    "### 2. Performing an insert function and printing the result\n",
    "### 3. Calling a stored procedure and printing the changes to the database"
   ]
  },
  {
   "cell_type": "markdown",
   "metadata": {
    "id": "qDx2mT0s66Pd"
   },
   "source": [
    "# Import"
   ]
  },
  {
   "cell_type": "code",
   "execution_count": null,
   "metadata": {
    "id": "q42ZaIjJ66Pd"
   },
   "outputs": [],
   "source": [
    "# Import psycopg2 to enable connection to postgreSQL.\n",
    "\n",
    "import psycopg2"
   ]
  },
  {
   "cell_type": "markdown",
   "metadata": {
    "id": "S1fCmxV166Pd"
   },
   "source": [
    "# Search Function with User Input"
   ]
  },
  {
   "cell_type": "code",
   "execution_count": null,
   "metadata": {
    "id": "fQ87MQBq66Pd"
   },
   "outputs": [],
   "source": [
    "# Function that searches employee id when provided an employee name from the employee_name table.\n",
    "\n",
    "def search_employees():\n",
    "    name = input(\"Enter an employee name then press enter:\")\n",
    "    connection = psycopg2.connect(host = \"localhost\", database = \"postgres\", user = \"postgres\", password = \"A.Password\")\n",
    "    cursor = connection.cursor()\n",
    "    cursor.execute(f\"SELECT employee_id FROM employee_personal WHERE employee_name = '{name}'\")\n",
    "    rows = cursor.fetchall()\n",
    "    print()\n",
    "    print(f\"{name}'s employee_id: {rows}\")\n",
    "    cursor.close()\n",
    "    connection.close()"
   ]
  },
  {
   "cell_type": "code",
   "execution_count": null,
   "metadata": {
    "id": "-jgLa8eZ66Pd",
    "outputId": "269304ef-54c5-43be-c759-7fb1e91b8be3"
   },
   "outputs": [],
   "source": [
    "# Query to find a name to use in the new search employees function.\n",
    "\n",
    "connection = psycopg2.connect(host = \"localhost\", database = \"postgres\", user = \"postgres\", password = \"Mint172!\")\n",
    "cursor = connection.cursor()\n",
    "cursor.execute(f\"SELECT employee_name FROM employee_personal WHERE employee_id = '1100'\")\n",
    "query_1 = cursor.fetchall()\n",
    "print(query_1)\n",
    "cursor.close()\n",
    "connection.close()"
   ]
  },
  {
   "cell_type": "code",
   "execution_count": null,
   "metadata": {
    "id": "TtwtBlge66Pe",
    "outputId": "d7a4f01f-3535-47e1-b1a7-7d8cdafbb3aa"
   },
   "outputs": [],
   "source": [
    "# For example, enter the name generated in the above query.\n",
    "\n",
    "search_employees()"
   ]
  },
  {
   "cell_type": "markdown",
   "metadata": {
    "id": "15iMrtc066Pe"
   },
   "source": [
    "# Insert Function"
   ]
  },
  {
   "cell_type": "code",
   "execution_count": null,
   "metadata": {
    "id": "2oIP2Ptj66Pe"
   },
   "outputs": [],
   "source": [
    "# Function that adds department, salary, and employee_id values to the employee_business table.\n",
    "\n",
    "def insert_employee_business(department, job_title, salary_usd, employee_id, employee_email, manager_id):\n",
    "    connection = psycopg2.connect(host = \"localhost\", database = \"postgres\", user = \"postgres\", password = \"A.Password\")\n",
    "    cursor = connection.cursor()\n",
    "    insert_command = f\"INSERT INTO employee_business (department, job_title, salary_usd, employee_id, employee_email, manager_id) VALUES ('{department}', '{job_title}', {salary_usd}, '{employee_id}', '{employee_email}', '{manager_id}');\"\n",
    "    cursor.execute(insert_command)\n",
    "    connection.commit()\n",
    "    cursor.close()\n",
    "    connection.close()"
   ]
  },
  {
   "cell_type": "code",
   "execution_count": null,
   "metadata": {
    "id": "whPurWFB66Pf"
   },
   "outputs": [],
   "source": [
    "# Example of the insert function.\n",
    "\n",
    "insert_employee_business('new department', 'new job', 170000, '2000', 'newemail@business.com', '3000')"
   ]
  },
  {
   "cell_type": "code",
   "execution_count": null,
   "metadata": {
    "id": "WpHW2tiy66Pf",
    "outputId": "cfd2ed5e-1e7e-43ae-e3e6-4a152b92b709"
   },
   "outputs": [],
   "source": [
    "# Query to check that the insert function works properly.\n",
    "\n",
    "connection = psycopg2.connect(host = \"localhost\", database = \"postgres\", user = \"postgres\", password = \"A.Password\")\n",
    "cursor = connection.cursor()\n",
    "cursor.execute(f\"SELECT * FROM employee_business WHERE employee_id = '2000';\")\n",
    "query_2 = cursor.fetchall()\n",
    "print(query_2)\n",
    "cursor.close()\n",
    "connection.close()"
   ]
  },
  {
   "cell_type": "markdown",
   "metadata": {
    "id": "sUmfO-iA66Pf"
   },
   "source": [
    "# Calling a Stored Procedure"
   ]
  },
  {
   "cell_type": "code",
   "execution_count": null,
   "metadata": {
    "id": "eeYG3Gz366Pf",
    "outputId": "aa3aded1-ddee-4e8c-ecfd-9b0cb850417c"
   },
   "outputs": [],
   "source": [
    "# This will print an EMPLOYEE salary from the database BEFORE we call the stored procedure so we can see that the stored procedure increased salary by 3%.\n",
    "\n",
    "connection = psycopg2.connect(host = \"localhost\", database = \"postgres\", user = \"postgres\", password = \"A.Password\")\n",
    "cursor = connection.cursor()\n",
    "cursor.execute(f\"SELECT salary_usd FROM employee_business WHERE employee_id = '1550';\")\n",
    "query = cursor.fetchall()\n",
    "print('employee_salary_usd BEFORE inflation: ', query[0])\n",
    "cursor.close()\n",
    "connection.close()"
   ]
  },
  {
   "cell_type": "code",
   "execution_count": null,
   "metadata": {
    "id": "FvGAjqBQ66Pf",
    "outputId": "096d038a-dfdb-4ab7-ced4-0fb4c9c5f3d5"
   },
   "outputs": [],
   "source": [
    "# This will print a MANAGER salary from the database BEFORE we call the stored procedure so we can see that the stored procedure increased salary by 3%.\n",
    "\n",
    "connection = psycopg2.connect(host = \"localhost\", database = \"postgres\", user = \"postgres\", password = \"A.Password\")\n",
    "cursor = connection.cursor()\n",
    "cursor.execute(f\"SELECT salary_usd FROM manager_business WHERE manager_id = '1230';\")\n",
    "query = cursor.fetchall()\n",
    "print('manager_salary_usd BEFORE inflation: ', query[0])\n",
    "cursor.close()\n",
    "connection.close()"
   ]
  },
  {
   "cell_type": "code",
   "execution_count": null,
   "metadata": {
    "id": "8lbUCINO66Pf"
   },
   "outputs": [],
   "source": [
    "# Code that accesses a stored procedure from postgresql which increases all salaries (both employee and manager salaries) by 3%.\n",
    "\n",
    "connection = psycopg2.connect(host = \"localhost\", database = \"postgres\", user = \"postgres\", password = \"A.Password\")\n",
    "cursor = connection.cursor()\n",
    "procedure_command = f\"CALL adjust_inflation()\"\n",
    "cursor.execute(procedure_command)\n",
    "connection.commit()\n",
    "cursor.close()"
   ]
  },
  {
   "cell_type": "code",
   "execution_count": null,
   "metadata": {
    "id": "Gxi-cEzr66Pg",
    "outputId": "a655631d-6db0-4358-f288-b471648abea3"
   },
   "outputs": [],
   "source": [
    "# This will print an EMPLOYEE salary from the database AFTER we call the stored procedure so we can see that the stored procedure increased salary by 3%.\n",
    "\n",
    "connection = psycopg2.connect(host = \"localhost\", database = \"postgres\", user = \"postgres\", password = \"A.Password\")\n",
    "cursor = connection.cursor()\n",
    "cursor.execute(f\"SELECT salary_usd FROM employee_business WHERE employee_id = '1550';\")\n",
    "query = cursor.fetchall()\n",
    "print('employee_salary_usd AFTER inflation: ', query[0])\n",
    "cursor.close()\n",
    "connection.close()"
   ]
  },
  {
   "cell_type": "code",
   "execution_count": null,
   "metadata": {
    "id": "rTlpkPdR66Pg",
    "outputId": "8acac892-c794-405a-8586-2f0c11fe3f92"
   },
   "outputs": [],
   "source": [
    "# This will print a MANAGER salary from the database AFTER we call the stored procedure so we can see that the stored procedure increased salary by 3%.\n",
    "\n",
    "connection = psycopg2.connect(host = \"localhost\", database = \"postgres\", user = \"postgres\", password = \"A.Password\")\n",
    "cursor = connection.cursor()\n",
    "cursor.execute(f\"SELECT salary_usd FROM manager_business WHERE manager_id = '1230';\")\n",
    "query = cursor.fetchall()\n",
    "print('manager_salary_usd AFTER inflation: ', query[0])\n",
    "cursor.close()\n",
    "connection.close()"
   ]
  },
  {
   "cell_type": "code",
   "execution_count": null,
   "metadata": {
    "id": "SUZpdwWc66Pg"
   },
   "outputs": [],
   "source": []
  },
  {
   "cell_type": "code",
   "execution_count": null,
   "metadata": {},
   "outputs": [],
   "source": []
  },
  {
   "cell_type": "code",
   "execution_count": null,
   "metadata": {},
   "outputs": [],
   "source": []
  },
  {
   "cell_type": "code",
   "execution_count": null,
   "metadata": {},
   "outputs": [],
   "source": []
  },
  {
   "cell_type": "code",
   "execution_count": null,
   "metadata": {},
   "outputs": [],
   "source": []
  }
 ],
 "metadata": {
  "colab": {
   "collapsed_sections": [],
   "name": "psycopg2_example.ipynb",
   "provenance": []
  },
  "kernelspec": {
   "display_name": "Python 3 (ipykernel)",
   "language": "python",
   "name": "python3"
  },
  "language_info": {
   "codemirror_mode": {
    "name": "ipython",
    "version": 3
   },
   "file_extension": ".py",
   "mimetype": "text/x-python",
   "name": "python",
   "nbconvert_exporter": "python",
   "pygments_lexer": "ipython3",
   "version": "3.9.7"
  }
 },
 "nbformat": 4,
 "nbformat_minor": 1
}
